{
 "cells": [
  {
   "cell_type": "markdown",
   "id": "183b81d2",
   "metadata": {},
   "source": [
    "# Multi Model Training"
   ]
  },
  {
   "cell_type": "code",
   "execution_count": 29,
   "id": "2b2f0e26",
   "metadata": {},
   "outputs": [],
   "source": [
    "import joblib\n",
    "import warnings\n",
    "import numpy as np\n",
    "import pandas as pd\n",
    "import seaborn as sns\n",
    "import matplotlib.pyplot as plt\n",
    "from sklearn.linear_model import LogisticRegression\n",
    "from sklearn.ensemble import RandomForestClassifier\n",
    "from sklearn.tree import DecisionTreeClassifier\n",
    "from sklearn.model_selection import (\n",
    "                                StratifiedKFold,\n",
    "                                cross_validate\n",
    "                            )\n",
    "from sklearn.metrics import (\n",
    "                                confusion_matrix,\n",
    "                                f1_score,\n",
    "                                precision_score,\n",
    "                                recall_score,\n",
    "                                accuracy_score\n",
    "                            )\n",
    "warnings.filterwarnings('ignore')"
   ]
  },
  {
   "cell_type": "markdown",
   "id": "07b47074",
   "metadata": {},
   "source": [
    "### 1. Laod the Data"
   ]
  },
  {
   "cell_type": "code",
   "execution_count": 30,
   "id": "19376a10",
   "metadata": {},
   "outputs": [],
   "source": [
    "X_train = np.load('artifacts/X_train.npz')['arr_0']\n",
    "Y_train = np.load('artifacts/Y_train.npz')['arr_0']\n",
    "X_test = np.load('artifacts/X_test.npz')['arr_0']\n",
    "Y_test = np.load('artifacts/Y_test.npz')['arr_0']"
   ]
  },
  {
   "cell_type": "markdown",
   "id": "0f49d360",
   "metadata": {},
   "source": [
    "### 2. Define Multi Models"
   ]
  },
  {
   "cell_type": "code",
   "execution_count": 31,
   "id": "a11a63ea",
   "metadata": {},
   "outputs": [],
   "source": [
    "models = {\n",
    "            'Logistic Regression' : LogisticRegression(),\n",
    "            'Decision Tree': DecisionTreeClassifier(),\n",
    "            'Random Forest': RandomForestClassifier()\n",
    "        }"
   ]
  },
  {
   "cell_type": "markdown",
   "id": "6c95d345",
   "metadata": {},
   "source": [
    "### 3. Configure K-Fold CV"
   ]
  },
  {
   "cell_type": "code",
   "execution_count": 32,
   "id": "9678159c",
   "metadata": {},
   "outputs": [],
   "source": [
    "cv = StratifiedKFold(\n",
    "                        n_splits=5,\n",
    "                        random_state=42,\n",
    "                        shuffle=True\n",
    "                    )"
   ]
  },
  {
   "cell_type": "markdown",
   "id": "15678ae6",
   "metadata": {},
   "source": [
    "### 4. Cross Validating Each model and getting best Model Instance (Estimator)"
   ]
  },
  {
   "cell_type": "code",
   "execution_count": 33,
   "id": "832de44c",
   "metadata": {},
   "outputs": [
    {
     "name": "stdout",
     "output_type": "stream",
     "text": [
      "\n",
      "Cross Validation on Logistic Regression\n",
      "[0.71858134 0.73371336 0.69230769 0.73247381 0.71484682]\n",
      "\n",
      "Cross Validation on Decision Tree\n",
      "[0.81444867 0.81273983 0.82648402 0.82225657 0.81775701]\n",
      "\n",
      "Cross Validation on Random Forest\n",
      "[0.89797508 0.89617486 0.88632873 0.88792423 0.88479624]\n"
     ]
    }
   ],
   "source": [
    "trained_models = {}\n",
    "\n",
    "for model_name, model in models.items():\n",
    "    print(f\"\\nCross Validation on {model_name}\")\n",
    "\n",
    "    cv_results = cross_validate(\n",
    "                                model,\n",
    "                                X_train,\n",
    "                                Y_train,\n",
    "                                cv=cv,\n",
    "                                scoring='precision',\n",
    "                                return_estimator=True, # This return actaul mode trained on best Folds\n",
    "                                return_train_score=False,\n",
    "                            )\n",
    "    test_score = cv_results['test_score']\n",
    "    best_index = np.argmax(test_score)\n",
    "\n",
    "    estimator = cv_results['estimator'][best_index] # Trained Mdeol on that specific fold\n",
    "    trained_models[model_name] = estimator \n",
    "    print(test_score)"
   ]
  },
  {
   "cell_type": "markdown",
   "id": "90c51a57",
   "metadata": {},
   "source": [
    "### 5. Inference and Evaluation"
   ]
  },
  {
   "cell_type": "code",
   "execution_count": 44,
   "id": "4d072b62",
   "metadata": {},
   "outputs": [
    {
     "name": "stdout",
     "output_type": "stream",
     "text": [
      "\n",
      "Evaluations Metrics on Logistic Regression\n",
      "    Accuarcy: 0.715\n",
      "    Precision: 0.3719247467438495\n",
      "    Recall: 0.6539440203562341\n",
      "    f1 Score: 0.474169741697417\n",
      "\n",
      "Evaluations Metrics on Decision Tree\n",
      "    Accuarcy: 0.774\n",
      "    Precision: 0.4394250513347023\n",
      "    Recall: 0.544529262086514\n",
      "    f1 Score: 0.4863636363636364\n",
      "\n",
      "Evaluations Metrics on Random Forest\n",
      "    Accuarcy: 0.83\n",
      "    Precision: 0.5674300254452926\n",
      "    Recall: 0.5674300254452926\n",
      "    f1 Score: 0.5674300254452926\n"
     ]
    }
   ],
   "source": [
    "Y_hat_tests = {}\n",
    "for model_name, model in trained_models.items():\n",
    "    print(f\"\\nEvaluations Metrics on {model_name}\")\n",
    "    Y_hat_test = model.predict(X_test)\n",
    "    Y_hat_tests[model_name] = Y_hat_test\n",
    "    accuaracy = accuracy_score(Y_test, Y_hat_test)\n",
    "    precision = precision_score(Y_test, Y_hat_test)\n",
    "    recall = recall_score(Y_test, Y_hat_test)\n",
    "    f1_score_val = f1_score(Y_test, Y_hat_test)\n",
    "\n",
    "    print(f\"    Accuarcy: {accuaracy}\")\n",
    "    print(f\"    Precision: {precision}\")\n",
    "    print(f\"    Recall: {recall}\")\n",
    "    print(f\"    f1 Score: {f1_score_val}\")"
   ]
  },
  {
   "cell_type": "markdown",
   "id": "ed554479",
   "metadata": {},
   "source": [
    "### 6. Confusion Matrices"
   ]
  },
  {
   "cell_type": "code",
   "execution_count": 40,
   "id": "19f3f547",
   "metadata": {},
   "outputs": [],
   "source": [
    "cm1 = confusion_matrix(Y_test, Y_hat_tests['Logistic Regression'])\n",
    "cm2 = confusion_matrix(Y_test, Y_hat_tests['Decision Tree'])\n",
    "cm3 = confusion_matrix(Y_test, Y_hat_tests['Random Forest'])"
   ]
  },
  {
   "cell_type": "code",
   "execution_count": 47,
   "id": "24f55f2e",
   "metadata": {},
   "outputs": [
    {
     "data": {
      "text/plain": [
       "Text(1583.6633986928105, 0.5, 'Actual')"
      ]
     },
     "execution_count": 47,
     "metadata": {},
     "output_type": "execute_result"
    },
    {
     "data": {
      "image/png": "[encoded data removed]",
      "text/plain": [
       "<Figure size 2400x600 with 6 Axes>"
      ]
     },
     "metadata": {},
     "output_type": "display_data"
    }
   ],
   "source": [
    "fig, (ax1, ax2, ax3) = plt.subplots(1, 3, figsize= (24, 6))\n",
    "\n",
    "sns.heatmap(cm1, annot=True, fmt='d', ax=ax1)\n",
    "ax1.set_title('Logistic Regression')\n",
    "ax1.set_xlabel('Predicted')\n",
    "ax1.set_ylabel('Actual')\n",
    "\n",
    "sns.heatmap(cm2, annot=True, fmt='d', ax=ax2)\n",
    "ax2.set_title('Decision Tree')\n",
    "ax2.set_xlabel('Predicted')\n",
    "ax2.set_ylabel('Actual')\n",
    "\n",
    "\n",
    "sns.heatmap(cm3, annot=True, fmt='d', ax=ax3)\n",
    "ax3.set_title('Random Forest')\n",
    "ax3.set_xlabel('Predicted')\n",
    "ax3.set_ylabel('Actual')"
   ]
  }
 ],
 "metadata": {
  "kernelspec": {
   "display_name": "tfenv",
   "language": "python",
   "name": "python3"
  },
  "language_info": {
   "codemirror_mode": {
    "name": "ipython",
    "version": 3
   },
   "file_extension": ".py",
   "mimetype": "text/x-python",
   "name": "python",
   "nbconvert_exporter": "python",
   "pygments_lexer": "ipython3",
   "version": "3.10.18"
  }
 },
 "nbformat": 4,
 "nbformat_minor": 5
}
