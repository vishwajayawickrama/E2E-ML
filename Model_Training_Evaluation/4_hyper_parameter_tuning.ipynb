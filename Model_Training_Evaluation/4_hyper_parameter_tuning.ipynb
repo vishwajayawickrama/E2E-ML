{
 "cells": [
  {
   "cell_type": "markdown",
   "id": "4492cc00",
   "metadata": {},
   "source": [
    "# Hyper Parameter Tuning"
   ]
  },
  {
   "cell_type": "code",
   "execution_count": 1,
   "id": "bbe6576b",
   "metadata": {},
   "outputs": [],
   "source": [
    "import joblib\n",
    "import warnings\n",
    "import numpy as np\n",
    "import pandas as pd\n",
    "import seaborn as sns\n",
    "import matplotlib.pyplot as plt\n",
    "from sklearn.linear_model import LogisticRegression\n",
    "from sklearn.ensemble import RandomForestClassifier\n",
    "from sklearn.tree import DecisionTreeClassifier\n",
    "\n",
    "from sklearn.model_selection import (\n",
    "                                StratifiedKFold,\n",
    "                                cross_validate,\n",
    "                                GridSearchCV\n",
    "                            )\n",
    "warnings.filterwarnings('ignore')"
   ]
  },
  {
   "cell_type": "markdown",
   "id": "84339cc1",
   "metadata": {},
   "source": [
    "### 1. Loadin Data"
   ]
  },
  {
   "cell_type": "code",
   "execution_count": 2,
   "id": "2a1e24ae",
   "metadata": {},
   "outputs": [],
   "source": [
    "X_train = np.load('artifacts/X_train.npz')['arr_0']\n",
    "Y_train = np.load('artifacts/Y_train.npz')['arr_0']\n",
    "X_test = np.load('artifacts/X_test.npz')['arr_0']\n",
    "Y_test = np.load('artifacts/Y_test.npz')['arr_0']"
   ]
  },
  {
   "cell_type": "markdown",
   "id": "a0daed7b",
   "metadata": {},
   "source": [
    "### 2. Define Hyper Parameters for each Model"
   ]
  },
  {
   "cell_type": "code",
   "execution_count": 3,
   "id": "96c7686b",
   "metadata": {},
   "outputs": [],
   "source": [
    "lr_param_grid = {\n",
    "                    'max_iter' : [1000, 5000, 10000]\n",
    "                }\n",
    "\n",
    "dt_param_grid = {\n",
    "                    'max_depth' : [8, 12, 16, 20],\n",
    "                    'criterion' : [\"gini\", \"entropy\", \"log_loss\"]\n",
    "                }\n",
    "\n",
    "rf_param_grid = {\n",
    "                    'n_estimators' : [50, 100, 150, 200],\n",
    "                    'max_depth' : [8, 12, 16, 20],\n",
    "                    'criterion' : [\"gini\", \"entropy\", \"log_loss\"]\n",
    "                }\n",
    "\n",
    "param_grids = {\n",
    "                'Logistic Regression' : lr_param_grid,\n",
    "                'Decision Tree' : dt_param_grid,\n",
    "                'Random Forest' : rf_param_grid\n",
    "            }       \n"
   ]
  },
  {
   "cell_type": "markdown",
   "id": "fcedaa3d",
   "metadata": {},
   "source": [
    "### 3. Define Multi Models"
   ]
  },
  {
   "cell_type": "code",
   "execution_count": 4,
   "id": "f579393d",
   "metadata": {},
   "outputs": [],
   "source": [
    "models = {\n",
    "            'Logistic Regression' : LogisticRegression(),\n",
    "            'Decision Tree': DecisionTreeClassifier(),\n",
    "            'Random Forest': RandomForestClassifier()\n",
    "        }"
   ]
  },
  {
   "cell_type": "markdown",
   "id": "eea993e9",
   "metadata": {},
   "source": [
    "### 4. Configure K-Fold CV"
   ]
  },
  {
   "cell_type": "code",
   "execution_count": 5,
   "id": "5725fa2b",
   "metadata": {},
   "outputs": [],
   "source": [
    "cv = StratifiedKFold(\n",
    "                        n_splits=6,\n",
    "                        random_state=42,\n",
    "                        shuffle=True\n",
    "                    )"
   ]
  },
  {
   "cell_type": "markdown",
   "id": "40642e0e",
   "metadata": {},
   "source": [
    "### 5. Multi Model Tuning and Traing with CV"
   ]
  },
  {
   "cell_type": "code",
   "execution_count": null,
   "id": "83be7e9c",
   "metadata": {},
   "outputs": [
    {
     "name": "stdout",
     "output_type": "stream",
     "text": [
      "\n",
      " --- Tuning Logistic Regression \n",
      "Fitting GridSearchCV for Logistic Regression\n",
      "Fitting 6 folds for each of 3 candidates, totalling 18 fits\n",
      "Logistic Regression Grid Srach Completed....\n",
      "Best CV Params: {'max_iter': 1000}\n",
      "Best CV Score: 0.7164898412269761\n",
      "\n",
      " --- Tuning Decision Tree \n",
      "Fitting GridSearchCV for Decision Tree\n",
      "Fitting 6 folds for each of 12 candidates, totalling 72 fits\n",
      "Decision Tree Grid Srach Completed....\n",
      "Best CV Params: {'criterion': 'entropy', 'max_depth': 16}\n",
      "Best CV Score: 0.8365317585411782\n",
      "\n",
      " --- Tuning Random Forest \n",
      "Fitting GridSearchCV for Random Forest\n",
      "Fitting 6 folds for each of 48 candidates, totalling 288 fits\n",
      "Random Forest Grid Srach Completed....\n",
      "Best CV Params: {'criterion': 'gini', 'max_depth': 20, 'n_estimators': 150}\n",
      "Best CV Score: 0.8971832631393973\n"
     ]
    }
   ],
   "source": [
    "grid_search_result = {}\n",
    "for model_name, model in models.items():\n",
    "    print(f\"\\n --- Tuning {model_name} \")\n",
    "\n",
    "    param_grid = param_grids[model_name]\n",
    "\n",
    "    grid_search = GridSearchCV(\n",
    "                                estimator=model,\n",
    "                                param_grid=param_grid,\n",
    "                                cv=cv,\n",
    "                                verbose=1, return_train_score=True\n",
    "                            )\n",
    "    \n",
    "    print(f\"Fitting GridSearchCV for {model_name}\")\n",
    "\n",
    "    grid_search.fit(X_train, Y_train)\n",
    "\n",
    "    grid_search_result[model_name] = grid_search\n",
    "\n",
    "    print(f\"{model_name} Grid Srach Completed....\")\n",
    "    print(f\"Best CV Params: {grid_search.best_params_}\")\n",
    "    print(f\"Best CV Score: {grid_search.best_score_}\")\n",
    "    "
   ]
  }
 ],
 "metadata": {
  "kernelspec": {
   "display_name": "tfenv",
   "language": "python",
   "name": "python3"
  },
  "language_info": {
   "codemirror_mode": {
    "name": "ipython",
    "version": 3
   },
   "file_extension": ".py",
   "mimetype": "text/x-python",
   "name": "python",
   "nbconvert_exporter": "python",
   "pygments_lexer": "ipython3",
   "version": "3.10.18"
  }
 },
 "nbformat": 4,
 "nbformat_minor": 5
}
